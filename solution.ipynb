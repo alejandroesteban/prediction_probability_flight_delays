{
 "cells": [
  {
   "cell_type": "code",
   "execution_count": null,
   "metadata": {},
   "outputs": [],
   "source": [
    "import pandas as pd\n",
    "import  seaborn as sns\n",
    "import matplotlib.pyplot as plt\n",
    "from datetime import datetime\n",
    "from meteostat import Point, Daily\n",
    "from sklearn.metrics import classification_report"
   ]
  },
  {
   "attachments": {},
   "cell_type": "markdown",
   "metadata": {},
   "source": [
    "## Data Loading preview"
   ]
  },
  {
   "cell_type": "code",
   "execution_count": null,
   "metadata": {},
   "outputs": [],
   "source": [
    "file_data = 'dataset_SCL.csv'\n",
    "df_raw = pd.read_csv(file_data, sep=\",\")\n",
    "df_raw.head(3).append(df_raw.tail(3))"
   ]
  },
  {
   "cell_type": "code",
   "execution_count": null,
   "metadata": {},
   "outputs": [],
   "source": [
    "display(df_raw.describe())\n",
    "display(df_raw.info())\n",
    "display(df_raw.isnull().sum())"
   ]
  },
  {
   "attachments": {},
   "cell_type": "markdown",
   "metadata": {},
   "source": [
    "## Visualizations to understand data"
   ]
  },
  {
   "attachments": {},
   "cell_type": "markdown",
   "metadata": {},
   "source": [
    "### 1. Flight numbers per airline"
   ]
  },
  {
   "cell_type": "code",
   "execution_count": null,
   "metadata": {},
   "outputs": [],
   "source": [
    "col_visualize = \"OPERA\"\n",
    "\n",
    "sns.histplot(df_raw, y=col_visualize, kde=True)\n",
    "plt.title(col_visualize+ ' Column Feature Distribution')\n",
    "plt.show()"
   ]
  },
  {
   "attachments": {},
   "cell_type": "markdown",
   "metadata": {},
   "source": [
    "Its importante double check to this data"
   ]
  },
  {
   "cell_type": "code",
   "execution_count": null,
   "metadata": {},
   "outputs": [],
   "source": [
    "display(df_raw[col_visualize].value_counts())"
   ]
  },
  {
   "attachments": {},
   "cell_type": "markdown",
   "metadata": {},
   "source": [
    "It is clear that there are more flights and therefore more records of two airlines. This will cause independent of what predictive model we use, these airlines are key to achieving a prediction.\n",
    "Therefore the question to ask now:\n",
    "\n",
    "¿What impact do these airlines have in terms of arrears of their flights?"
   ]
  },
  {
   "attachments": {},
   "cell_type": "markdown",
   "metadata": {},
   "source": [
    "### 2. Flight Type Distribution"
   ]
  },
  {
   "cell_type": "code",
   "execution_count": null,
   "metadata": {},
   "outputs": [],
   "source": [
    "col_visualize = \"TIPOVUELO\"\n",
    "\n",
    "sns.histplot(df_raw, x=col_visualize)\n",
    "plt.title(col_visualize+ ' Column Feature Distribution')\n",
    "plt.show()"
   ]
  },
  {
   "attachments": {},
   "cell_type": "markdown",
   "metadata": {},
   "source": [
    "A very large significance is not appreciated in terms of amount of data for national and international flights"
   ]
  },
  {
   "attachments": {},
   "cell_type": "markdown",
   "metadata": {},
   "source": [
    "### 3. Types of flights with airlines"
   ]
  },
  {
   "cell_type": "code",
   "execution_count": null,
   "metadata": {},
   "outputs": [],
   "source": [
    "col_visualize = [\"OPERA\",\"TIPOVUELO\"]\n",
    "sns.histplot(data=df_raw, y=\"OPERA\", hue=\"TIPOVUELO\", multiple=\"stack\")\n",
    "plt.show()"
   ]
  },
  {
   "attachments": {},
   "cell_type": "markdown",
   "metadata": {},
   "source": [
    "#### 4. Visualize OPERA v/s month"
   ]
  },
  {
   "cell_type": "code",
   "execution_count": null,
   "metadata": {},
   "outputs": [],
   "source": [
    "sns.histplot(data=df_raw, y=\"OPERA\", hue=\"MES\", multiple=\"stack\")\n",
    "plt.title(' OPERA v/s MES')\n",
    "plt.show()"
   ]
  },
  {
   "attachments": {},
   "cell_type": "markdown",
   "metadata": {},
   "source": [
    "#### 5. Visualize OPERA v/s Day of flight"
   ]
  },
  {
   "cell_type": "code",
   "execution_count": null,
   "metadata": {},
   "outputs": [],
   "source": [
    "sns.histplot(data=df_raw, y=\"OPERA\", hue=\"DIA\", multiple=\"stack\")\n",
    "plt.show()"
   ]
  },
  {
   "attachments": {},
   "cell_type": "markdown",
   "metadata": {},
   "source": [
    "#### 5. Visualize OPERA v/s Des-I"
   ]
  },
  {
   "cell_type": "code",
   "execution_count": null,
   "metadata": {},
   "outputs": [],
   "source": [
    "fig, ax = plt.subplots(figsize=(25,10))\n",
    "sns.histplot(ax=ax,data=df_raw, y=\"OPERA\", hue=\"Des-I\", multiple=\"stack\")\n",
    "plt.show()"
   ]
  },
  {
   "attachments": {},
   "cell_type": "markdown",
   "metadata": {},
   "source": [
    "#### 5. Visualize OPERA v/s DIANOM"
   ]
  },
  {
   "cell_type": "code",
   "execution_count": null,
   "metadata": {},
   "outputs": [],
   "source": [
    "fig, ax = plt.subplots(figsize=(25,10))\n",
    "sns.histplot(ax=ax,data=df_raw, y=\"OPERA\", hue=\"DIANOM\", multiple=\"stack\")\n",
    "plt.show()"
   ]
  },
  {
   "attachments": {},
   "cell_type": "markdown",
   "metadata": {},
   "source": [
    "#### Conclusions\n",
    "1. There is a clear imbalance in the data and they will be biased by the data provided by the LATAM GROUP airline, so the delay behavior will be characterized by this airline.\n",
    "For this reason, the distribution of data around OPERA continues to be displayed.\n",
    "\n",
    "    1.1 Considering the airlines GRUPO LATAM and SKY AIRLINES, it can be seen that most of the flights are domestic and will have an impact on the characterization of the behavior of flight delays.\n",
    "\n",
    "    1.2 There is a large amount of data with a destination flight with a component of its first two initials SC, which correspond to flights to Chile.\n",
    "    \n",
    "    1.3 It is seen that the days of operation of the flights are balanced between the different airlines.\n",
    "\n",
    "2. Now, by generating the variable of interest delay_15 we will be able to verify the direct or indirect relationship of the data with flight delays, for which reason new conclusions will be made later."
   ]
  },
  {
   "cell_type": "code",
   "execution_count": null,
   "metadata": {},
   "outputs": [],
   "source": []
  }
 ],
 "metadata": {
  "kernelspec": {
   "display_name": "Python 3",
   "language": "python",
   "name": "python3"
  },
  "language_info": {
   "codemirror_mode": {
    "name": "ipython",
    "version": 3
   },
   "file_extension": ".py",
   "mimetype": "text/x-python",
   "name": "python",
   "nbconvert_exporter": "python",
   "pygments_lexer": "ipython3",
   "version": "3.8.16"
  },
  "orig_nbformat": 4,
  "vscode": {
   "interpreter": {
    "hash": "949777d72b0d2535278d3dc13498b2535136f6dfe0678499012e853ee9abcab1"
   }
  }
 },
 "nbformat": 4,
 "nbformat_minor": 2
}
